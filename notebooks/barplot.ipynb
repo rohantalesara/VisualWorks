{
 "cells": [
  {
   "cell_type": "code",
   "execution_count": 1,
   "metadata": {
    "collapsed": true
   },
   "outputs": [],
   "source": [
    "import matplotlib.pyplot as plt\n",
    "import pandas as pd\n",
    "import seaborn as sns\n",
    "import numpy\n",
    "df=pd.read_csv(\"C:/xampp/htdocs/WT/CSVUpload/thefile.csv\")\n",
    "file=open('C:/xampp/htdocs/WT/xy.txt','r')\n",
    "\n",
    "try:\n",
    "    x=file.readline().strip()\n",
    "    y=file.readline().strip()\n",
    "    \n",
    "    if(y==\"None\"):\n",
    "        df[x].value_counts().plot(kind = \"bar\")\n",
    "        plt.title('Bar plot of '+x)\n",
    "    else:\n",
    "        g = sns.FacetGrid(df)  \n",
    "        g.map(sns.barplot,x,y, ci = None) \n",
    "        plt.xticks(rotation=90)\n",
    "        plt.title('Bar plot '+x+' vs '+y)\n",
    "        \n",
    "    plt.savefig('C:/xampp/htdocs/WT/homepage/plot.jpeg',bbox_inches='tight')\n",
    "except:\n",
    "    plt.plot([1,1,2,2,1],[1,2,2,1,1],[1.2,1.2,1.3,1.3,1.2],[1.6,1.8,1.8,1.6,1.6],[1.7,1.7,1.8,1.8,1.7],[1.6,1.8,1.8,1.6,1.6],[1.2,1.3,1.7,1.8],[1.2,1.3,1.3,1.2])\n",
    "    plt.title(\"Something Went Wrong\")\n",
    "    plt.savefig('C:/xampp/htdocs/WT/homepage/plot.jpeg',bbox_inches='tight')\n",
    "file.close()\n",
    "plt.close()"
   ]
  }
 ],
 "metadata": {
  "kernelspec": {
   "display_name": "Python 3",
   "language": "python",
   "name": "python3"
  },
  "language_info": {
   "codemirror_mode": {
    "name": "ipython",
    "version": 3
   },
   "file_extension": ".py",
   "mimetype": "text/x-python",
   "name": "python",
   "nbconvert_exporter": "python",
   "pygments_lexer": "ipython3",
   "version": "3.6.1"
  }
 },
 "nbformat": 4,
 "nbformat_minor": 2
}
